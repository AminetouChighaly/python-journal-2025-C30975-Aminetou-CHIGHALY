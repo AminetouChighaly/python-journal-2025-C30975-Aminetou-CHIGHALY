{
 "cells": [
  {
   "cell_type": "code",
   "execution_count": 2,
   "id": "7850d5c8-657f-4dc2-b418-0a422591cd44",
   "metadata": {},
   "outputs": [
    {
     "name": "stdout",
     "output_type": "stream",
     "text": [
      "Bonjour,je m'appelle Aminetou Chighaly\n"
     ]
    }
   ],
   "source": [
    "print(\"Bonjour,je m'appelle Aminetou Chighaly\")\n"
   ]
  },
  {
   "cell_type": "code",
   "execution_count": 3,
   "id": "054cca68-df41-45e9-aff9-f0989f6fb952",
   "metadata": {},
   "outputs": [
    {
     "name": "stdout",
     "output_type": "stream",
     "text": [
      "a + b = 7\n"
     ]
    }
   ],
   "source": [
    "a = 5\n",
    "b = 2\n",
    "print(\"a + b =\", a + b)"
   ]
  },
  {
   "cell_type": "code",
   "execution_count": 4,
   "id": "6e423519-c0a7-4112-b6aa-610c1f850179",
   "metadata": {},
   "outputs": [
    {
     "name": "stdout",
     "output_type": "stream",
     "text": [
      "2\n",
      "4\n",
      "6\n",
      "8\n"
     ]
    }
   ],
   "source": [
    "nombres = [1, 2, 3, 4]\n",
    "for n in nombres:\n",
    "    print(n * 2)"
   ]
  },
  {
   "cell_type": "code",
   "execution_count": null,
   "id": "3fb15d5d-5126-4112-827f-1491b09ea0b1",
   "metadata": {},
   "outputs": [],
   "source": []
  }
 ],
 "metadata": {
  "kernelspec": {
   "display_name": "Python 3 (ipykernel)",
   "language": "python",
   "name": "python3"
  },
  "language_info": {
   "codemirror_mode": {
    "name": "ipython",
    "version": 3
   },
   "file_extension": ".py",
   "mimetype": "text/x-python",
   "name": "python",
   "nbconvert_exporter": "python",
   "pygments_lexer": "ipython3",
   "version": "3.13.5"
  }
 },
 "nbformat": 4,
 "nbformat_minor": 5
}
